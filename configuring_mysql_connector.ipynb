{
 "cells": [
  {
   "cell_type": "code",
   "execution_count": 2,
   "id": "ebb949cf-af88-41b1-900d-d5c0372a0475",
   "metadata": {},
   "outputs": [
    {
     "name": "stdout",
     "output_type": "stream",
     "text": [
      "Requirement already satisfied: mysql-connector-python in c:\\users\\lefra\\appdata\\local\\programs\\python\\python312\\lib\\site-packages (9.0.0)\n"
     ]
    }
   ],
   "source": [
    "# Configuring MySQL connector to connect to the database from Python. This is how we will be making the booking system.\n",
    "!pip install mysql-connector-python\n",
    "import mysql.connector as connector"
   ]
  },
  {
   "cell_type": "code",
   "execution_count": 4,
   "id": "c614c4d5-fbe3-4daa-8989-a7a5c501994b",
   "metadata": {},
   "outputs": [],
   "source": [
    "#Creating a connection to the database, using my credentials\n",
    "connection = connector.connect(user=\"dbCapstone\", password = \"RootP4$$\", db = \"littlelemondb\")"
   ]
  },
  {
   "cell_type": "code",
   "execution_count": 6,
   "id": "45c9f397-8deb-495b-b3cd-0163c907f737",
   "metadata": {},
   "outputs": [],
   "source": [
    "#Creating a cursor object to communicate with MySQL database\n",
    "cursor = connection.cursor()"
   ]
  },
  {
   "cell_type": "code",
   "execution_count": 10,
   "id": "3fa28ebb-e8c0-4f98-8b19-7ca39756937e",
   "metadata": {},
   "outputs": [],
   "source": [
    "#This query is to test whether I was able to successfully enter the database\n",
    "show_tables_query = \"SHOW tables\"\n",
    "cursor.execute(show_tables_query)"
   ]
  },
  {
   "cell_type": "code",
   "execution_count": 11,
   "id": "0396e5fe-bbc2-4b49-8a1a-4ca02242a733",
   "metadata": {},
   "outputs": [],
   "source": [
    "#Fetching results into cursor\n",
    "dataset = cursor.fetchall()"
   ]
  },
  {
   "cell_type": "code",
   "execution_count": 14,
   "id": "e1c30156-0170-43a3-920b-291d9defafe7",
   "metadata": {},
   "outputs": [
    {
     "name": "stdout",
     "output_type": "stream",
     "text": [
      "bookings\n",
      "customerdetails\n",
      "departments\n",
      "menu\n",
      "menuitems\n",
      "morethantwoitems\n",
      "orderabove150\n",
      "orderdeliverystatus\n",
      "orders\n",
      "ordersview\n",
      "staff\n"
     ]
    }
   ],
   "source": [
    "#looping through the results in the dataset fetched\n",
    "for results in dataset:\n",
    "    print(results[0])"
   ]
  },
  {
   "cell_type": "code",
   "execution_count": 16,
   "id": "a696d3de-a234-427b-b15c-76a0749fb4c5",
   "metadata": {},
   "outputs": [],
   "source": [
    "#Select statement aimed to select orders that have more than 60 dollars spent.\n",
    "order_more_than_sixty = \"\"\"SELECT CONCAT(CustomerDetails.CustomerFirstName, \" \", CustomerDetails.CustomerLastName) AS 'Customer Name', \n",
    "CustomerDetails.PhoneNumber AS 'Phone Number', \n",
    "CustomerDetails.Email AS 'Email',\n",
    "MenuItems.Price * Orders.Quantity AS 'Cost'\n",
    "FROM CustomerDetails \n",
    "INNER JOIN Bookings\n",
    "ON CustomerDetails.CustomerID = Bookings.CustomerID\n",
    "INNER JOIN Orders\n",
    "ON Bookings.BookingID = Orders.BookingID\n",
    "INNER JOIN MenuItems\n",
    "ON Orders.MenuItemsID = MenuItems.MenuItemsID WHERE 'Cost' > 60\"\"\"\n",
    "cursor.execute(order_more_than_sixty)"
   ]
  },
  {
   "cell_type": "code",
   "execution_count": 20,
   "id": "cd4e2f4d-5477-4b1f-81ec-7bb2498410c3",
   "metadata": {},
   "outputs": [
    {
     "name": "stdout",
     "output_type": "stream",
     "text": [
      "('Customer Name', 'Phone Number', 'Email', 'Cost')\n"
     ]
    }
   ],
   "source": [
    "#This fetches the column names\n",
    "column = cursor.column_names\n",
    "print(column)"
   ]
  },
  {
   "cell_type": "code",
   "execution_count": 21,
   "id": "bcb52bac-0362-423e-8e84-8691b1d5ce8d",
   "metadata": {},
   "outputs": [],
   "source": [
    "#If data is present, then the data should appear here\n",
    "dataset = cursor.fetchall()\n",
    "for results in dataset:\n",
    "    print(results)"
   ]
  },
  {
   "cell_type": "code",
   "execution_count": null,
   "id": "a5e1c3ad-902f-4f48-a25f-1b7a292c086e",
   "metadata": {},
   "outputs": [],
   "source": []
  }
 ],
 "metadata": {
  "kernelspec": {
   "display_name": "Python 3 (ipykernel)",
   "language": "python",
   "name": "python3"
  },
  "language_info": {
   "codemirror_mode": {
    "name": "ipython",
    "version": 3
   },
   "file_extension": ".py",
   "mimetype": "text/x-python",
   "name": "python",
   "nbconvert_exporter": "python",
   "pygments_lexer": "ipython3",
   "version": "3.12.5"
  }
 },
 "nbformat": 4,
 "nbformat_minor": 5
}
